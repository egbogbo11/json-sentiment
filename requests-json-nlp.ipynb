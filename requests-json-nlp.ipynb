{
 "cells": [
  {
   "cell_type": "markdown",
   "metadata": {},
   "source": [
    "# Web Mining and Applied NLP (44-620)\n",
    "\n",
    "## Requests, JSON, and NLP\n",
    "\n",
    "### Student Name:\n",
    "\n",
    "Perform the tasks described in the Markdown cells below.  When you have completed the assignment make sure your code cells have all been run (and have output beneath them) and ensure you have committed and pushed ALL of your changes to your assignment repository.\n",
    "\n",
    "Make sure you have [installed spaCy and its pipeline](https://spacy.io/usage#quickstart) and [spaCyTextBlob](https://spacy.io/universe/project/spacy-textblob)\n",
    "\n",
    "Every question that requires you to write code will have a code cell underneath it; you may either write your entire solution in that cell or write it in a python file (`.py`), then import and run the appropriate code to answer the question.\n",
    "\n",
    "This assignment requires that you write additional files (either JSON or pickle files); make sure to submit those files in your repository as well."
   ]
  },
  {
   "cell_type": "markdown",
   "metadata": {},
   "source": [
    "1. The following code accesses the [lyrics.ovh](https://lyricsovh.docs.apiary.io/#reference/0/lyrics-of-a-song/search) public api, searches for the lyrics of a song, and stores it in a dictionary object.  Write the resulting json to a file (either a JSON file or a pickle file; you choose). You will read in the contents of this file for future questions so we do not need to frequently access the API."
   ]
  },
  {
   "cell_type": "code",
   "execution_count": 17,
   "metadata": {},
   "outputs": [
    {
     "name": "stdout",
     "output_type": "stream",
     "text": [
      "✅ Lyrics saved to yellow_lyrics.json\n"
     ]
    }
   ],
   "source": [
    "import requests\n",
    "import json\n",
    "import spacy\n",
    "from spacytextblob.spacytextblob import SpacyTextBlob\n",
    "import xmltodict\n",
    "\n",
    "\n",
    "# Use a song that works with the ChartLyrics API\n",
    "artist = \"Coldplay\"\n",
    "song = \"Yellow\"\n",
    "\n",
    "# API endpoint\n",
    "url = f\"http://api.chartlyrics.com/apiv1.asmx/SearchLyricDirect?artist={artist}&song={song}\"\n",
    "\n",
    "# Fetch and parse\n",
    "response = requests.get(url)\n",
    "\n",
    "if response.status_code == 200:\n",
    "    data = xmltodict.parse(response.text)\n",
    "    lyrics = data.get(\"GetLyricResult\", {}).get(\"Lyric\")\n",
    "\n",
    "    if lyrics and lyrics.strip():\n",
    "        result = {\n",
    "            \"artist\": artist,\n",
    "            \"song\": song,\n",
    "            \"lyrics\": lyrics\n",
    "        }\n",
    "        with open(\"yellow_lyrics.json\", \"w\", encoding='utf-8') as file:\n",
    "            json.dump(result, file, indent=4)\n",
    "        print(\"✅ Lyrics saved to yellow_lyrics.json\")\n",
    "    else:\n",
    "        print(\"❌ No lyrics found in the API response.\")\n",
    "else:\n",
    "    print(f\"❌ Request failed: {response.status_code}\")\n",
    "    print(\"Response:\", repr(response.text))\n",
    "\n",
    "\n"
   ]
  },
  {
   "cell_type": "markdown",
   "metadata": {},
   "source": [
    "2. Read in the contents of your file.  Print the lyrics of the song (not the entire dictionary!) and use spaCyTextBlob to perform sentiment analysis on the lyrics.  Print the polarity score of the sentiment analysis.  Given that the range of the polarity score is `[-1.0,1.0]` which corresponds to how positive or negative the text in question is, do you think the lyrics have a more positive or negative connotaion?  Answer this question in a comment in your code cell."
   ]
  },
  {
   "cell_type": "code",
   "execution_count": 24,
   "metadata": {},
   "outputs": [
    {
     "name": "stdout",
     "output_type": "stream",
     "text": [
      "Analyzing: 'Yellow' by Coldplay\n",
      "Polarity: 0.2430555555555556\n",
      "\n",
      "Lyrics Preview:\n",
      " Look at the stars\n",
      "Look how they shine for you\n",
      "And everything you do\n",
      "Yeah, they were all yellow\n",
      "\n",
      "I came along\n",
      "I wrote a song for you\n",
      "And all the things you do\n",
      "And it was called Yellow\n",
      "\n",
      "So then I took my turn\n",
      "Oh what a thing to've done\n",
      "And it was all yellow\n",
      "\n",
      "Your skin\n",
      "Oh yeah your skin and bones\n",
      "Turn it into something beautiful\n",
      "And you know\n",
      "You know I love you so\n",
      "You know I love you so\n",
      "\n",
      "I swam across\n",
      "I jumped across for you\n",
      "Oh what a thing to do\n",
      "'Cause you were all yellow\n",
      "\n",
      "I drew a line\n",
      "I drew a l\n"
     ]
    }
   ],
   "source": [
    "import json\n",
    "import spacy\n",
    "from spacy.tokens import Doc\n",
    "from textblob import TextBlob\n",
    "\n",
    "\n",
    "# ✅ Register extensions (if not already registered)\n",
    "if not Doc.has_extension('blob'):\n",
    "    Doc.set_extension('blob', getter=lambda doc: TextBlob(doc.text))\n",
    "if not Doc.has_extension('polarity'):\n",
    "    Doc.set_extension('polarity', getter=lambda doc: doc._.blob.sentiment.polarity)\n",
    "\n",
    "# ✅ Load spaCy model\n",
    "nlp = spacy.load(\"en_core_web_sm\")\n",
    "\n",
    "# ✅ Load JSON file (replace with your saved filename)\n",
    "with open('yellow_lyrics.json', 'r', encoding='utf-8') as f:\n",
    "    data = json.load(f)\n",
    "\n",
    "# ✅ Extract lyrics from JSON\n",
    "lyrics = data.get('lyrics', '')\n",
    "\n",
    "if lyrics.strip():\n",
    "    # ✅ Process lyrics with spaCy\n",
    "    doc = nlp(lyrics)\n",
    "\n",
    "    # ✅ Print sentiment scores\n",
    "    print(f\"Analyzing: '{data.get('song')}' by {data.get('artist')}\")\n",
    "    print(\"Polarity:\", doc._.polarity)\n",
    "    print(\"\\nLyrics Preview:\\n\", lyrics[:500])\n",
    "else:\n",
    "    print(\"⚠️ No lyrics found in the file.\")\n"
   ]
  },
  {
   "cell_type": "markdown",
   "metadata": {},
   "source": [
    "3. Write a function that takes an artist, song, and filename, accesses the lyrics.ovh api to get the song lyrics, and writes the results to the specified filename.  Test this function by getting the lyrics to any four songs of your choice and storing them in different files."
   ]
  },
  {
   "cell_type": "code",
   "execution_count": 28,
   "metadata": {},
   "outputs": [
    {
     "name": "stdout",
     "output_type": "stream",
     "text": [
      "Saved lyrics for Bon Jovi - It's My Life to bon_jovi_its_my_life.json\n",
      "Saved lyrics for Linkin Park - Numb to linkin_park_numb.json\n",
      "Saved lyrics for Green Day - Boulevard of Broken Dreams to green_day_boulevard.json\n"
     ]
    }
   ],
   "source": [
    "def get_chartlyrics_lyrics(artist, song, filename):\n",
    "    \"\"\"\n",
    "    Fetches lyrics using the ChartLyrics XML API, converts to JSON, and saves to a file.\n",
    "    \"\"\"\n",
    "    url = f\"http://api.chartlyrics.com/apiv1.asmx/SearchLyricDirect?artist={artist}&song={song}\"\n",
    "    response = requests.get(url)\n",
    "\n",
    "    if response.status_code == 200:\n",
    "        data_dict = xmltodict.parse(response.text)\n",
    "        lyrics = data_dict.get(\"GetLyricResult\", {}).get(\"Lyric\", \"\")\n",
    "\n",
    "        if lyrics and lyrics.strip():\n",
    "            result = {\n",
    "                \"artist\": artist,\n",
    "                \"song\": song,\n",
    "                \"lyrics\": lyrics\n",
    "            }\n",
    "            with open(filename, 'w', encoding='utf-8') as f:\n",
    "                json.dump(result, f, indent=4)\n",
    "            print(f\"Saved lyrics for {artist} - {song} to {filename}\")\n",
    "        else:\n",
    "            print(f\"No lyrics found for {artist} - {song}\")\n",
    "    else:\n",
    "        print(f\"Request failed for {artist} - {song}. Status: {response.status_code}\")\n",
    "\n",
    "\n",
    "# ✅ WORKING SONGS\n",
    "\n",
    "get_chartlyrics_lyrics(\"Bon Jovi\", \"It's My Life\", \"bon_jovi_its_my_life.json\")\n",
    "get_chartlyrics_lyrics(\"Linkin Park\", \"Numb\", \"linkin_park_numb.json\")\n",
    "get_chartlyrics_lyrics(\"Green Day\", \"Boulevard of Broken Dreams\", \"green_day_boulevard.json\")\n"
   ]
  },
  {
   "cell_type": "markdown",
   "metadata": {},
   "source": [
    "4. Write a function that takes the name of a file that contains song lyrics, loads the file, performs sentiment analysis, and returns the polarity score.  Use this function to print the polarity scores (with the name of the song) of the three files you created in question 3.  Does the reported polarity match your understanding of the song's lyrics? Why or why not do you think that might be?  Answer the questions in either a comment in the code cell or a markdown cell under the code cell."
   ]
  },
  {
   "cell_type": "code",
   "execution_count": 30,
   "metadata": {},
   "outputs": [
    {
     "name": "stdout",
     "output_type": "stream",
     "text": [
      "Boulevard of Broken Dreams: Polarity Score = -0.126\n",
      "It's My Life: Polarity Score = 0.109\n",
      "Numb: Polarity Score = -0.049\n"
     ]
    }
   ],
   "source": [
    "def analyze_lyrics_polarity(filename):\n",
    "    \"\"\"\n",
    "    Loads a lyrics JSON file, runs sentiment analysis,\n",
    "    and returns the polarity score.\n",
    "    \"\"\"\n",
    "    with open(filename, 'r', encoding='utf-8') as f:\n",
    "        data = json.load(f)\n",
    "    \n",
    "    lyrics = data.get(\"lyrics\", \"\")\n",
    "    song_title = data.get(\"song\", \"Unknown\")\n",
    "\n",
    "    if not lyrics.strip():\n",
    "        print(f\"⚠️ No lyrics found in {filename}\")\n",
    "        return song_title, None\n",
    "\n",
    "    doc = nlp(lyrics)\n",
    "    return song_title, doc._.polarity\n",
    "\n",
    "# ✅ Analyze 3 songs\n",
    "files = [\n",
    "    \"green_day_boulevard.json\",\n",
    "    \"bon_jovi_its_my_life.json\",\n",
    "    \"linkin_park_numb.json\"\n",
    "]\n",
    "\n",
    "for file in files:\n",
    "    song, polarity = analyze_lyrics_polarity(file)\n",
    "    if polarity is not None:\n",
    "        print(f\"{song}: Polarity Score = {polarity:.3f}\")\n",
    "    else:\n",
    "        print(f\"Could not analyze {song}\")"
   ]
  }
 ],
 "metadata": {
  "kernelspec": {
   "display_name": ".venv",
   "language": "python",
   "name": "python3"
  },
  "language_info": {
   "codemirror_mode": {
    "name": "ipython",
    "version": 3
   },
   "file_extension": ".py",
   "mimetype": "text/x-python",
   "name": "python",
   "nbconvert_exporter": "python",
   "pygments_lexer": "ipython3",
   "version": "3.13.1"
  }
 },
 "nbformat": 4,
 "nbformat_minor": 4
}
